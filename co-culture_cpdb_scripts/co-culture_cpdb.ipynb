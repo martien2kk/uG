{
 "cells": [
  {
   "cell_type": "code",
   "execution_count": 1,
   "metadata": {},
   "outputs": [
    {
     "name": "stdout",
     "output_type": "stream",
     "text": [
      "Current Working Directory: /.mounts/labs/reimandlab/private/users/k2zhang/TIA18674.20211202\n"
     ]
    }
   ],
   "source": [
    "import pandas as pd\n",
    "import sys\n",
    "import os\n",
    "\n",
    "pd.set_option('display.max_columns', 100)\n",
    "current_directory = os.getcwd()\n",
    "print(\"Current Working Directory:\", current_directory)\n"
   ]
  },
  {
   "cell_type": "code",
   "execution_count": 2,
   "metadata": {},
   "outputs": [
    {
     "name": "stdout",
     "output_type": "stream",
     "text": [
      "Current Working Directory: /.mounts/labs/reimandlab/private/users/k2zhang/TIA18674.20211202/cpdb_tutorial\n"
     ]
    }
   ],
   "source": [
    "os.chdir('/.mounts/labs/reimandlab/private/users/k2zhang/TIA18674.20211202/cpdb_tutorial')\n",
    "current_directory = os.getcwd()\n",
    "print(\"Current Working Directory:\", current_directory)\n",
    "\n",
    "\n",
    "cpdb_file_path = '/.mounts/labs/reimandlab/private/users/k2zhang/TIA18674.20211202/cpdb_tutorial/db/test/v5.0.0/cellphonedb.zip'\n",
    "meta_file_path = '/.mounts/labs/reimandlab/private/users/k2zhang/TIA18674.20211202/meta_file.tsv'\n",
    "counts_file_path = '/.mounts/labs/reimandlab/private/users/k2zhang/TIA18674.20211202/processed_adata_final.h5ad'\n",
    "# microenvs_file_path = 'data/microenvironment.tsv'\n",
    "out_path = '/.mounts/labs/reimandlab/private/users/k2zhang/TIA18674.20211202/cpdb_tutorial/results/method_2'\n",
    "\n",
    "\n"
   ]
  },
  {
   "cell_type": "code",
   "execution_count": 3,
   "metadata": {},
   "outputs": [
    {
     "data": {
      "text/html": [
       "<div>\n",
       "<style scoped>\n",
       "    .dataframe tbody tr th:only-of-type {\n",
       "        vertical-align: middle;\n",
       "    }\n",
       "\n",
       "    .dataframe tbody tr th {\n",
       "        vertical-align: top;\n",
       "    }\n",
       "\n",
       "    .dataframe thead th {\n",
       "        text-align: right;\n",
       "    }\n",
       "</style>\n",
       "<table border=\"1\" class=\"dataframe\">\n",
       "  <thead>\n",
       "    <tr style=\"text-align: right;\">\n",
       "      <th></th>\n",
       "      <th>barcode</th>\n",
       "      <th>cell_type</th>\n",
       "    </tr>\n",
       "  </thead>\n",
       "  <tbody>\n",
       "    <tr>\n",
       "      <th>0</th>\n",
       "      <td>AAACCCACATCAGTGT-1</td>\n",
       "      <td>Neuron</td>\n",
       "    </tr>\n",
       "    <tr>\n",
       "      <th>1</th>\n",
       "      <td>AAACCCACATGACTAC-1</td>\n",
       "      <td>Neuron</td>\n",
       "    </tr>\n",
       "    <tr>\n",
       "      <th>2</th>\n",
       "      <td>AAACCCACATGTTACG-1</td>\n",
       "      <td>Neuron</td>\n",
       "    </tr>\n",
       "  </tbody>\n",
       "</table>\n",
       "</div>"
      ],
      "text/plain": [
       "              barcode cell_type\n",
       "0  AAACCCACATCAGTGT-1    Neuron\n",
       "1  AAACCCACATGACTAC-1    Neuron\n",
       "2  AAACCCACATGTTACG-1    Neuron"
      ]
     },
     "execution_count": 3,
     "metadata": {},
     "output_type": "execute_result"
    }
   ],
   "source": [
    "metadata = pd.read_csv(meta_file_path, sep = '\\t')\n",
    "metadata.head(3)"
   ]
  },
  {
   "cell_type": "code",
   "execution_count": 4,
   "metadata": {},
   "outputs": [
    {
     "data": {
      "text/plain": [
       "(8331, 25523)"
      ]
     },
     "execution_count": 4,
     "metadata": {},
     "output_type": "execute_result"
    }
   ],
   "source": [
    "import anndata\n",
    "\n",
    "adata = anndata.read_h5ad(counts_file_path)\n",
    "adata.shape"
   ]
  },
  {
   "cell_type": "code",
   "execution_count": 6,
   "metadata": {},
   "outputs": [
    {
     "data": {
      "text/plain": [
       "True"
      ]
     },
     "execution_count": 6,
     "metadata": {},
     "output_type": "execute_result"
    }
   ],
   "source": [
    "list(adata.obs.index).sort() == list(metadata['barcode']).sort()\n"
   ]
  },
  {
   "cell_type": "code",
   "execution_count": 7,
   "metadata": {},
   "outputs": [
    {
     "name": "stdout",
     "output_type": "stream",
     "text": [
      "Reading user files...\n",
      "The following user files were loaded successfully:\n",
      "/.mounts/labs/reimandlab/private/users/k2zhang/TIA18674.20211202/processed_adata_final.h5ad\n",
      "/.mounts/labs/reimandlab/private/users/k2zhang/TIA18674.20211202/meta_file.tsv\n",
      "[ ][CORE][30/07/24-14:05:26][INFO] [Cluster Statistical Analysis] Threshold:0.1 Iterations:1000 Debug-seed:42 Threads:5 Precision:3\n",
      "[ ][CORE][30/07/24-14:05:26][WARNING] Debug random seed enabled. Set to 42\n",
      "[ ][CORE][30/07/24-14:05:28][INFO] Running Real Analysis\n",
      "[ ][CORE][30/07/24-14:05:28][INFO] Running Statistical Analysis\n"
     ]
    },
    {
     "name": "stderr",
     "output_type": "stream",
     "text": [
      "100%|██████████| 1000/1000 [01:20<00:00, 12.49it/s]"
     ]
    },
    {
     "name": "stdout",
     "output_type": "stream",
     "text": [
      "[ ][CORE][30/07/24-14:06:48][INFO] Building Pvalues result\n"
     ]
    },
    {
     "name": "stderr",
     "output_type": "stream",
     "text": [
      "\n"
     ]
    },
    {
     "name": "stdout",
     "output_type": "stream",
     "text": [
      "[ ][CORE][30/07/24-14:06:48][INFO] Building results\n",
      "[ ][CORE][30/07/24-14:06:48][INFO] Scoring interactions: Filtering genes per cell type..\n"
     ]
    },
    {
     "name": "stderr",
     "output_type": "stream",
     "text": [
      "100%|██████████| 4/4 [00:00<00:00, 34.75it/s]"
     ]
    },
    {
     "name": "stdout",
     "output_type": "stream",
     "text": [
      "[ ][CORE][30/07/24-14:06:48][INFO] Scoring interactions: Calculating mean expression of each gene per group/cell type..\n"
     ]
    },
    {
     "name": "stderr",
     "output_type": "stream",
     "text": [
      "\n",
      "100%|██████████| 4/4 [00:00<00:00, 157.98it/s]\n"
     ]
    },
    {
     "name": "stdout",
     "output_type": "stream",
     "text": [
      "[ ][CORE][30/07/24-14:06:49][INFO] Scoring interactions: Calculating scores for all interactions and cell types..\n"
     ]
    },
    {
     "name": "stderr",
     "output_type": "stream",
     "text": [
      "100%|██████████| 16/16 [00:02<00:00,  5.66it/s]\n"
     ]
    },
    {
     "name": "stdout",
     "output_type": "stream",
     "text": [
      "Saved deconvoluted to /.mounts/labs/reimandlab/private/users/k2zhang/TIA18674.20211202/cpdb_tutorial/results/method_2/statistical_analysis_deconvoluted_07_30_2024_140652.txt\n",
      "Saved deconvoluted_percents to /.mounts/labs/reimandlab/private/users/k2zhang/TIA18674.20211202/cpdb_tutorial/results/method_2/statistical_analysis_deconvoluted_percents_07_30_2024_140652.txt\n",
      "Saved means to /.mounts/labs/reimandlab/private/users/k2zhang/TIA18674.20211202/cpdb_tutorial/results/method_2/statistical_analysis_means_07_30_2024_140652.txt\n",
      "Saved pvalues to /.mounts/labs/reimandlab/private/users/k2zhang/TIA18674.20211202/cpdb_tutorial/results/method_2/statistical_analysis_pvalues_07_30_2024_140652.txt\n",
      "Saved significant_means to /.mounts/labs/reimandlab/private/users/k2zhang/TIA18674.20211202/cpdb_tutorial/results/method_2/statistical_analysis_significant_means_07_30_2024_140652.txt\n",
      "Saved interaction_scores to /.mounts/labs/reimandlab/private/users/k2zhang/TIA18674.20211202/cpdb_tutorial/results/method_2/statistical_analysis_interaction_scores_07_30_2024_140652.txt\n"
     ]
    }
   ],
   "source": [
    "from cellphonedb.src.core.methods import cpdb_statistical_analysis_method\n",
    "\n",
    "cpdb_results = cpdb_statistical_analysis_method.call(\n",
    "    cpdb_file_path = cpdb_file_path,                 # mandatory: CellphoneDB database zip file.\n",
    "    meta_file_path = meta_file_path,                 # mandatory: tsv file defining barcodes to cell label.\n",
    "    counts_file_path = counts_file_path,             # mandatory: normalized count matrix - a path to the counts file, or an in-memory AnnData object\n",
    "    counts_data = 'hgnc_symbol',                     # defines the gene annotation in counts matrix.\n",
    "    # active_tfs_file_path = active_tf_path,           # optional: defines cell types and their active TFs.\n",
    "    # microenvs_file_path = microenvs_file_path,       # optional (default: None): defines cells per microenvironment.\n",
    "    score_interactions = True,                       # optional: whether to score interactions or not. \n",
    "    iterations = 1000,                               # denotes the number of shufflings performed in the analysis.\n",
    "    threshold = 0.1,                                 # defines the min % of cells expressing a gene for this to be employed in the analysis.\n",
    "    threads = 5,                                     # number of threads to use in the analysis.\n",
    "    debug_seed = 42,                                 # debug randome seed. To disable >=0.\n",
    "    result_precision = 3,                            # Sets the rounding for the mean values in significan_means.\n",
    "    pvalue = 0.05,                                   # P-value threshold to employ for significance.\n",
    "    subsampling = False,                             # To enable subsampling the data (geometri sketching).\n",
    "    subsampling_log = False,                         # (mandatory) enable subsampling log1p for non log-transformed data inputs.\n",
    "    subsampling_num_pc = 100,                        # Number of componets to subsample via geometric skectching (dafault: 100).\n",
    "    subsampling_num_cells = 1000,                    # Number of cells to subsample (integer) (default: 1/3 of the dataset).\n",
    "    separator = '|',                                 # Sets the string to employ to separate cells in the results dataframes \"cellA|CellB\".\n",
    "    debug = False,                                   # Saves all intermediate tables employed during the analysis in pkl format.\n",
    "    output_path = out_path,                          # Path to save results.\n",
    "    output_suffix = None                             # Replaces the timestamp in the output files by a user defined string in the  (default: None).\n",
    "    )"
   ]
  },
  {
   "cell_type": "code",
   "execution_count": 9,
   "metadata": {},
   "outputs": [
    {
     "data": {
      "text/html": [
       "<div>\n",
       "<style scoped>\n",
       "    .dataframe tbody tr th:only-of-type {\n",
       "        vertical-align: middle;\n",
       "    }\n",
       "\n",
       "    .dataframe tbody tr th {\n",
       "        vertical-align: top;\n",
       "    }\n",
       "\n",
       "    .dataframe thead th {\n",
       "        text-align: right;\n",
       "    }\n",
       "</style>\n",
       "<table border=\"1\" class=\"dataframe\">\n",
       "  <thead>\n",
       "    <tr style=\"text-align: right;\">\n",
       "      <th></th>\n",
       "      <th>id_cp_interaction</th>\n",
       "      <th>interacting_pair</th>\n",
       "      <th>partner_a</th>\n",
       "      <th>partner_b</th>\n",
       "      <th>gene_a</th>\n",
       "      <th>gene_b</th>\n",
       "      <th>secreted</th>\n",
       "      <th>receptor_a</th>\n",
       "      <th>receptor_b</th>\n",
       "      <th>annotation_strategy</th>\n",
       "      <th>is_integrin</th>\n",
       "      <th>directionality</th>\n",
       "      <th>classification</th>\n",
       "      <th>Astrocyte|Astrocyte</th>\n",
       "      <th>Astrocyte|Microglia</th>\n",
       "      <th>Astrocyte|Neuron</th>\n",
       "      <th>Astrocyte|Oligodendrocyte</th>\n",
       "      <th>Microglia|Astrocyte</th>\n",
       "      <th>Microglia|Microglia</th>\n",
       "      <th>Microglia|Neuron</th>\n",
       "      <th>Microglia|Oligodendrocyte</th>\n",
       "      <th>Neuron|Astrocyte</th>\n",
       "      <th>Neuron|Microglia</th>\n",
       "      <th>Neuron|Neuron</th>\n",
       "      <th>Neuron|Oligodendrocyte</th>\n",
       "      <th>Oligodendrocyte|Astrocyte</th>\n",
       "      <th>Oligodendrocyte|Microglia</th>\n",
       "      <th>Oligodendrocyte|Neuron</th>\n",
       "      <th>Oligodendrocyte|Oligodendrocyte</th>\n",
       "    </tr>\n",
       "  </thead>\n",
       "  <tbody>\n",
       "    <tr>\n",
       "      <th>0</th>\n",
       "      <td>CPI-SC0A2DB962D</td>\n",
       "      <td>CDH1_integrin_a2b1_complex</td>\n",
       "      <td>simple:P12830</td>\n",
       "      <td>complex:integrin_a2b1_complex</td>\n",
       "      <td>CDH1</td>\n",
       "      <td>NaN</td>\n",
       "      <td>False</td>\n",
       "      <td>False</td>\n",
       "      <td>False</td>\n",
       "      <td>curated</td>\n",
       "      <td>True</td>\n",
       "      <td>Adhesion-Adhesion</td>\n",
       "      <td>Adhesion by Cadherin</td>\n",
       "      <td>1.0</td>\n",
       "      <td>1.0</td>\n",
       "      <td>1.0</td>\n",
       "      <td>1.0</td>\n",
       "      <td>1.0</td>\n",
       "      <td>1.0</td>\n",
       "      <td>1.0</td>\n",
       "      <td>1.0</td>\n",
       "      <td>1.0</td>\n",
       "      <td>1.0</td>\n",
       "      <td>1.0</td>\n",
       "      <td>1.0</td>\n",
       "      <td>1.0</td>\n",
       "      <td>1.0</td>\n",
       "      <td>1.0</td>\n",
       "      <td>1.0</td>\n",
       "    </tr>\n",
       "    <tr>\n",
       "      <th>1</th>\n",
       "      <td>CPI-SC0B5CEA47D</td>\n",
       "      <td>COL10A1_integrin_a2b1_complex</td>\n",
       "      <td>simple:Q03692</td>\n",
       "      <td>complex:integrin_a2b1_complex</td>\n",
       "      <td>COL10A1</td>\n",
       "      <td>NaN</td>\n",
       "      <td>True</td>\n",
       "      <td>False</td>\n",
       "      <td>False</td>\n",
       "      <td>curated</td>\n",
       "      <td>True</td>\n",
       "      <td>Adhesion-Adhesion</td>\n",
       "      <td>Adhesion by Collagen/Integrin</td>\n",
       "      <td>1.0</td>\n",
       "      <td>1.0</td>\n",
       "      <td>1.0</td>\n",
       "      <td>1.0</td>\n",
       "      <td>1.0</td>\n",
       "      <td>1.0</td>\n",
       "      <td>1.0</td>\n",
       "      <td>1.0</td>\n",
       "      <td>1.0</td>\n",
       "      <td>1.0</td>\n",
       "      <td>1.0</td>\n",
       "      <td>1.0</td>\n",
       "      <td>1.0</td>\n",
       "      <td>1.0</td>\n",
       "      <td>1.0</td>\n",
       "      <td>1.0</td>\n",
       "    </tr>\n",
       "  </tbody>\n",
       "</table>\n",
       "</div>"
      ],
      "text/plain": [
       "  id_cp_interaction               interacting_pair      partner_a  \\\n",
       "0   CPI-SC0A2DB962D     CDH1_integrin_a2b1_complex  simple:P12830   \n",
       "1   CPI-SC0B5CEA47D  COL10A1_integrin_a2b1_complex  simple:Q03692   \n",
       "\n",
       "                       partner_b   gene_a gene_b  secreted  receptor_a  \\\n",
       "0  complex:integrin_a2b1_complex     CDH1    NaN     False       False   \n",
       "1  complex:integrin_a2b1_complex  COL10A1    NaN      True       False   \n",
       "\n",
       "   receptor_b annotation_strategy  is_integrin     directionality  \\\n",
       "0       False             curated         True  Adhesion-Adhesion   \n",
       "1       False             curated         True  Adhesion-Adhesion   \n",
       "\n",
       "                  classification  Astrocyte|Astrocyte  Astrocyte|Microglia  \\\n",
       "0           Adhesion by Cadherin                  1.0                  1.0   \n",
       "1  Adhesion by Collagen/Integrin                  1.0                  1.0   \n",
       "\n",
       "   Astrocyte|Neuron  Astrocyte|Oligodendrocyte  Microglia|Astrocyte  \\\n",
       "0               1.0                        1.0                  1.0   \n",
       "1               1.0                        1.0                  1.0   \n",
       "\n",
       "   Microglia|Microglia  Microglia|Neuron  Microglia|Oligodendrocyte  \\\n",
       "0                  1.0               1.0                        1.0   \n",
       "1                  1.0               1.0                        1.0   \n",
       "\n",
       "   Neuron|Astrocyte  Neuron|Microglia  Neuron|Neuron  Neuron|Oligodendrocyte  \\\n",
       "0               1.0               1.0            1.0                     1.0   \n",
       "1               1.0               1.0            1.0                     1.0   \n",
       "\n",
       "   Oligodendrocyte|Astrocyte  Oligodendrocyte|Microglia  \\\n",
       "0                        1.0                        1.0   \n",
       "1                        1.0                        1.0   \n",
       "\n",
       "   Oligodendrocyte|Neuron  Oligodendrocyte|Oligodendrocyte  \n",
       "0                     1.0                              1.0  \n",
       "1                     1.0                              1.0  "
      ]
     },
     "execution_count": 9,
     "metadata": {},
     "output_type": "execute_result"
    }
   ],
   "source": [
    "list(cpdb_results.keys())\n"
   ]
  },
  {
   "cell_type": "code",
   "execution_count": 32,
   "metadata": {},
   "outputs": [
    {
     "data": {
      "text/html": [
       "<div>\n",
       "<style scoped>\n",
       "    .dataframe tbody tr th:only-of-type {\n",
       "        vertical-align: middle;\n",
       "    }\n",
       "\n",
       "    .dataframe tbody tr th {\n",
       "        vertical-align: top;\n",
       "    }\n",
       "\n",
       "    .dataframe thead th {\n",
       "        text-align: right;\n",
       "    }\n",
       "</style>\n",
       "<table border=\"1\" class=\"dataframe\">\n",
       "  <thead>\n",
       "    <tr style=\"text-align: right;\">\n",
       "      <th></th>\n",
       "      <th>id_cp_interaction</th>\n",
       "      <th>interacting_pair</th>\n",
       "      <th>partner_a</th>\n",
       "      <th>partner_b</th>\n",
       "      <th>gene_a</th>\n",
       "      <th>gene_b</th>\n",
       "      <th>secreted</th>\n",
       "      <th>receptor_a</th>\n",
       "      <th>receptor_b</th>\n",
       "      <th>annotation_strategy</th>\n",
       "      <th>is_integrin</th>\n",
       "      <th>directionality</th>\n",
       "      <th>classification</th>\n",
       "      <th>Astrocyte|Astrocyte</th>\n",
       "      <th>Astrocyte|Microglia</th>\n",
       "      <th>Astrocyte|Neuron</th>\n",
       "      <th>Astrocyte|Oligodendrocyte</th>\n",
       "      <th>Microglia|Astrocyte</th>\n",
       "      <th>Microglia|Microglia</th>\n",
       "      <th>Microglia|Neuron</th>\n",
       "      <th>Microglia|Oligodendrocyte</th>\n",
       "      <th>Neuron|Astrocyte</th>\n",
       "      <th>Neuron|Microglia</th>\n",
       "      <th>Neuron|Neuron</th>\n",
       "      <th>Neuron|Oligodendrocyte</th>\n",
       "      <th>Oligodendrocyte|Astrocyte</th>\n",
       "      <th>Oligodendrocyte|Microglia</th>\n",
       "      <th>Oligodendrocyte|Neuron</th>\n",
       "      <th>Oligodendrocyte|Oligodendrocyte</th>\n",
       "    </tr>\n",
       "  </thead>\n",
       "  <tbody>\n",
       "    <tr>\n",
       "      <th>0</th>\n",
       "      <td>CPI-SC0A2DB962D</td>\n",
       "      <td>CDH1_integrin_a2b1_complex</td>\n",
       "      <td>simple:P12830</td>\n",
       "      <td>complex:integrin_a2b1_complex</td>\n",
       "      <td>CDH1</td>\n",
       "      <td>NaN</td>\n",
       "      <td>False</td>\n",
       "      <td>False</td>\n",
       "      <td>False</td>\n",
       "      <td>curated</td>\n",
       "      <td>True</td>\n",
       "      <td>Adhesion-Adhesion</td>\n",
       "      <td>Adhesion by Cadherin</td>\n",
       "      <td>1.0</td>\n",
       "      <td>1.0</td>\n",
       "      <td>1.0</td>\n",
       "      <td>1.0</td>\n",
       "      <td>1.0</td>\n",
       "      <td>1.0</td>\n",
       "      <td>1.0</td>\n",
       "      <td>1.0</td>\n",
       "      <td>1.0</td>\n",
       "      <td>1.0</td>\n",
       "      <td>1.0</td>\n",
       "      <td>1.0</td>\n",
       "      <td>1.0</td>\n",
       "      <td>1.0</td>\n",
       "      <td>1.0</td>\n",
       "      <td>1.0</td>\n",
       "    </tr>\n",
       "    <tr>\n",
       "      <th>1</th>\n",
       "      <td>CPI-SC0B5CEA47D</td>\n",
       "      <td>COL10A1_integrin_a2b1_complex</td>\n",
       "      <td>simple:Q03692</td>\n",
       "      <td>complex:integrin_a2b1_complex</td>\n",
       "      <td>COL10A1</td>\n",
       "      <td>NaN</td>\n",
       "      <td>True</td>\n",
       "      <td>False</td>\n",
       "      <td>False</td>\n",
       "      <td>curated</td>\n",
       "      <td>True</td>\n",
       "      <td>Adhesion-Adhesion</td>\n",
       "      <td>Adhesion by Collagen/Integrin</td>\n",
       "      <td>1.0</td>\n",
       "      <td>1.0</td>\n",
       "      <td>1.0</td>\n",
       "      <td>1.0</td>\n",
       "      <td>1.0</td>\n",
       "      <td>1.0</td>\n",
       "      <td>1.0</td>\n",
       "      <td>1.0</td>\n",
       "      <td>1.0</td>\n",
       "      <td>1.0</td>\n",
       "      <td>1.0</td>\n",
       "      <td>1.0</td>\n",
       "      <td>1.0</td>\n",
       "      <td>1.0</td>\n",
       "      <td>1.0</td>\n",
       "      <td>1.0</td>\n",
       "    </tr>\n",
       "  </tbody>\n",
       "</table>\n",
       "</div>"
      ],
      "text/plain": [
       "  id_cp_interaction               interacting_pair      partner_a  \\\n",
       "0   CPI-SC0A2DB962D     CDH1_integrin_a2b1_complex  simple:P12830   \n",
       "1   CPI-SC0B5CEA47D  COL10A1_integrin_a2b1_complex  simple:Q03692   \n",
       "\n",
       "                       partner_b   gene_a gene_b  secreted  receptor_a  \\\n",
       "0  complex:integrin_a2b1_complex     CDH1    NaN     False       False   \n",
       "1  complex:integrin_a2b1_complex  COL10A1    NaN      True       False   \n",
       "\n",
       "   receptor_b annotation_strategy  is_integrin     directionality  \\\n",
       "0       False             curated         True  Adhesion-Adhesion   \n",
       "1       False             curated         True  Adhesion-Adhesion   \n",
       "\n",
       "                  classification  Astrocyte|Astrocyte  Astrocyte|Microglia  \\\n",
       "0           Adhesion by Cadherin                  1.0                  1.0   \n",
       "1  Adhesion by Collagen/Integrin                  1.0                  1.0   \n",
       "\n",
       "   Astrocyte|Neuron  Astrocyte|Oligodendrocyte  Microglia|Astrocyte  \\\n",
       "0               1.0                        1.0                  1.0   \n",
       "1               1.0                        1.0                  1.0   \n",
       "\n",
       "   Microglia|Microglia  Microglia|Neuron  Microglia|Oligodendrocyte  \\\n",
       "0                  1.0               1.0                        1.0   \n",
       "1                  1.0               1.0                        1.0   \n",
       "\n",
       "   Neuron|Astrocyte  Neuron|Microglia  Neuron|Neuron  Neuron|Oligodendrocyte  \\\n",
       "0               1.0               1.0            1.0                     1.0   \n",
       "1               1.0               1.0            1.0                     1.0   \n",
       "\n",
       "   Oligodendrocyte|Astrocyte  Oligodendrocyte|Microglia  \\\n",
       "0                        1.0                        1.0   \n",
       "1                        1.0                        1.0   \n",
       "\n",
       "   Oligodendrocyte|Neuron  Oligodendrocyte|Oligodendrocyte  \n",
       "0                     1.0                              1.0  \n",
       "1                     1.0                              1.0  "
      ]
     },
     "execution_count": 32,
     "metadata": {},
     "output_type": "execute_result"
    }
   ],
   "source": [
    "cpdb_results['pvalues'].head(2)\n"
   ]
  },
  {
   "cell_type": "code",
   "execution_count": 12,
   "metadata": {},
   "outputs": [
    {
     "data": {
      "text/html": [
       "<div>\n",
       "<style scoped>\n",
       "    .dataframe tbody tr th:only-of-type {\n",
       "        vertical-align: middle;\n",
       "    }\n",
       "\n",
       "    .dataframe tbody tr th {\n",
       "        vertical-align: top;\n",
       "    }\n",
       "\n",
       "    .dataframe thead th {\n",
       "        text-align: right;\n",
       "    }\n",
       "</style>\n",
       "<table border=\"1\" class=\"dataframe\">\n",
       "  <thead>\n",
       "    <tr style=\"text-align: right;\">\n",
       "      <th></th>\n",
       "      <th>gene_name</th>\n",
       "      <th>uniprot</th>\n",
       "      <th>is_complex</th>\n",
       "      <th>protein_name</th>\n",
       "      <th>complex_name</th>\n",
       "      <th>id_cp_interaction</th>\n",
       "      <th>gene</th>\n",
       "      <th>Astrocyte</th>\n",
       "      <th>Microglia</th>\n",
       "      <th>Neuron</th>\n",
       "      <th>Oligodendrocyte</th>\n",
       "    </tr>\n",
       "    <tr>\n",
       "      <th>multidata_id</th>\n",
       "      <th></th>\n",
       "      <th></th>\n",
       "      <th></th>\n",
       "      <th></th>\n",
       "      <th></th>\n",
       "      <th></th>\n",
       "      <th></th>\n",
       "      <th></th>\n",
       "      <th></th>\n",
       "      <th></th>\n",
       "      <th></th>\n",
       "    </tr>\n",
       "  </thead>\n",
       "  <tbody>\n",
       "    <tr>\n",
       "      <th>1355</th>\n",
       "      <td>UBASH3B</td>\n",
       "      <td>Q8TF42</td>\n",
       "      <td>True</td>\n",
       "      <td>UBS3B_HUMAN</td>\n",
       "      <td>Dehydroepiandrosterone_bySTS</td>\n",
       "      <td>CPI-CS09B8977D7</td>\n",
       "      <td>UBASH3B</td>\n",
       "      <td>0.026</td>\n",
       "      <td>0.257</td>\n",
       "      <td>0.045</td>\n",
       "      <td>0.02</td>\n",
       "    </tr>\n",
       "    <tr>\n",
       "      <th>1355</th>\n",
       "      <td>UBASH3B</td>\n",
       "      <td>Q8TF42</td>\n",
       "      <td>True</td>\n",
       "      <td>UBS3B_HUMAN</td>\n",
       "      <td>Dehydroepiandrosterone_bySTS</td>\n",
       "      <td>CPI-CS05760BB78</td>\n",
       "      <td>UBASH3B</td>\n",
       "      <td>0.026</td>\n",
       "      <td>0.257</td>\n",
       "      <td>0.045</td>\n",
       "      <td>0.02</td>\n",
       "    </tr>\n",
       "  </tbody>\n",
       "</table>\n",
       "</div>"
      ],
      "text/plain": [
       "             gene_name uniprot  is_complex protein_name  \\\n",
       "multidata_id                                              \n",
       "1355           UBASH3B  Q8TF42        True  UBS3B_HUMAN   \n",
       "1355           UBASH3B  Q8TF42        True  UBS3B_HUMAN   \n",
       "\n",
       "                              complex_name id_cp_interaction     gene  \\\n",
       "multidata_id                                                            \n",
       "1355          Dehydroepiandrosterone_bySTS   CPI-CS09B8977D7  UBASH3B   \n",
       "1355          Dehydroepiandrosterone_bySTS   CPI-CS05760BB78  UBASH3B   \n",
       "\n",
       "              Astrocyte  Microglia  Neuron  Oligodendrocyte  \n",
       "multidata_id                                                 \n",
       "1355              0.026      0.257   0.045             0.02  \n",
       "1355              0.026      0.257   0.045             0.02  "
      ]
     },
     "execution_count": 12,
     "metadata": {},
     "output_type": "execute_result"
    }
   ],
   "source": [
    "cpdb_results['deconvoluted'].head(2)\n"
   ]
  },
  {
   "cell_type": "code",
   "execution_count": 1,
   "metadata": {},
   "outputs": [
    {
     "ename": "NameError",
     "evalue": "name 'cpdb_results' is not defined",
     "output_type": "error",
     "traceback": [
      "\u001b[0;31m---------------------------------------------------------------------------\u001b[0m",
      "\u001b[0;31mNameError\u001b[0m                                 Traceback (most recent call last)",
      "Cell \u001b[0;32mIn[1], line 8\u001b[0m\n\u001b[1;32m      1\u001b[0m \u001b[38;5;28;01mfrom\u001b[39;00m \u001b[38;5;21;01mcellphonedb\u001b[39;00m\u001b[38;5;21;01m.\u001b[39;00m\u001b[38;5;21;01mutils\u001b[39;00m \u001b[38;5;28;01mimport\u001b[39;00m search_utils\n\u001b[1;32m      3\u001b[0m search_results \u001b[38;5;241m=\u001b[39m search_utils\u001b[38;5;241m.\u001b[39msearch_analysis_results(\n\u001b[1;32m      4\u001b[0m     query_cell_types_1 \u001b[38;5;241m=\u001b[39m [\u001b[38;5;124m'\u001b[39m\u001b[38;5;124mNeuron\u001b[39m\u001b[38;5;124m'\u001b[39m, \u001b[38;5;124m'\u001b[39m\u001b[38;5;124mAstrocyte\u001b[39m\u001b[38;5;124m'\u001b[39m, \u001b[38;5;124m'\u001b[39m\u001b[38;5;124mOligodendrocyte\u001b[39m\u001b[38;5;124m'\u001b[39m, \u001b[38;5;124m'\u001b[39m\u001b[38;5;124mMicroglia\u001b[39m\u001b[38;5;124m'\u001b[39m],  \u001b[38;5;66;03m# List of cells 1, will be paired to cells 2 (list or 'All').\u001b[39;00m\n\u001b[1;32m      5\u001b[0m     query_cell_types_2 \u001b[38;5;241m=\u001b[39m [\u001b[38;5;124m'\u001b[39m\u001b[38;5;124mMicroglia\u001b[39m\u001b[38;5;124m'\u001b[39m],     \u001b[38;5;66;03m# List of cells 2, will be paired to cells 1 (list or 'All').\u001b[39;00m\n\u001b[1;32m      6\u001b[0m     query_genes \u001b[38;5;241m=\u001b[39m [\u001b[38;5;124m'\u001b[39m\u001b[38;5;124mTGFBR1\u001b[39m\u001b[38;5;124m'\u001b[39m],                                       \u001b[38;5;66;03m# filter interactions based on the genes participating (list).\u001b[39;00m\n\u001b[1;32m      7\u001b[0m     query_interactions \u001b[38;5;241m=\u001b[39m [\u001b[38;5;124m'\u001b[39m\u001b[38;5;124mCSF1_CSF1R\u001b[39m\u001b[38;5;124m'\u001b[39m],                            \u001b[38;5;66;03m# filter intereactions based on their name (list).\u001b[39;00m\n\u001b[0;32m----> 8\u001b[0m     significant_means \u001b[38;5;241m=\u001b[39m \u001b[43mcpdb_results\u001b[49m[\u001b[38;5;124m'\u001b[39m\u001b[38;5;124msignificant_means\u001b[39m\u001b[38;5;124m'\u001b[39m],          \u001b[38;5;66;03m# significant_means file generated by CellphoneDB.\u001b[39;00m\n\u001b[1;32m      9\u001b[0m     deconvoluted \u001b[38;5;241m=\u001b[39m cpdb_results[\u001b[38;5;124m'\u001b[39m\u001b[38;5;124mdeconvoluted\u001b[39m\u001b[38;5;124m'\u001b[39m],                    \u001b[38;5;66;03m# devonvoluted file generated by CellphoneDB.\u001b[39;00m\n\u001b[1;32m     10\u001b[0m     interaction_scores \u001b[38;5;241m=\u001b[39m cpdb_results[\u001b[38;5;124m'\u001b[39m\u001b[38;5;124minteraction_scores\u001b[39m\u001b[38;5;124m'\u001b[39m],        \u001b[38;5;66;03m# interaction score generated by CellphoneDB.\u001b[39;00m\n\u001b[1;32m     11\u001b[0m     query_minimum_score \u001b[38;5;241m=\u001b[39m \u001b[38;5;241m50\u001b[39m,                                       \u001b[38;5;66;03m# minimum score that an interaction must have to be filtered.\u001b[39;00m\n\u001b[1;32m     12\u001b[0m     separator \u001b[38;5;241m=\u001b[39m \u001b[38;5;124m'\u001b[39m\u001b[38;5;124m|\u001b[39m\u001b[38;5;124m'\u001b[39m,                                                \u001b[38;5;66;03m# separator (default: |) employed to split cells (cellA|cellB).\u001b[39;00m\n\u001b[1;32m     13\u001b[0m     long_format \u001b[38;5;241m=\u001b[39m \u001b[38;5;28;01mTrue\u001b[39;00m,                                             \u001b[38;5;66;03m# converts the output into a wide table, removing non-significant interactions\u001b[39;00m\n\u001b[1;32m     14\u001b[0m     query_classifications \u001b[38;5;241m=\u001b[39m [\u001b[38;5;124m'\u001b[39m\u001b[38;5;124mSignaling by Transforming growth factor\u001b[39m\u001b[38;5;124m'\u001b[39m]\n\u001b[1;32m     15\u001b[0m )\n\u001b[1;32m     17\u001b[0m search_results\n",
      "\u001b[0;31mNameError\u001b[0m: name 'cpdb_results' is not defined"
     ]
    }
   ],
   "source": [
    "from cellphonedb.utils import search_utils\n",
    "\n",
    "search_results = search_utils.search_analysis_results(\n",
    "    query_cell_types_1 = ['Neuron', 'Astrocyte', 'Oligodendrocyte', 'Microglia'],  # List of cells 1, will be paired to cells 2 (list or 'All').\n",
    "    query_cell_types_2 = ['Microglia'],     # List of cells 2, will be paired to cells 1 (list or 'All').\n",
    "    query_genes = ['TGFBR1'],                                       # filter interactions based on the genes participating (list).\n",
    "    query_interactions = ['CSF1_CSF1R'],                            # filter intereactions based on their name (list).\n",
    "    significant_means = cpdb_results['significant_means'],          # significant_means file generated by CellphoneDB.\n",
    "    deconvoluted = cpdb_results['deconvoluted'],                    # devonvoluted file generated by CellphoneDB.\n",
    "    interaction_scores = cpdb_results['interaction_scores'],        # interaction score generated by CellphoneDB.\n",
    "    query_minimum_score = 50,                                       # minimum score that an interaction must have to be filtered.\n",
    "    separator = '|',                                                # separator (default: |) employed to split cells (cellA|cellB).\n",
    "    long_format = True,                                             # converts the output into a wide table, removing non-significant interactions\n",
    "    query_classifications = ['Signaling by Transforming growth factor']\n",
    ")\n",
    "\n",
    "search_results"
   ]
  },
  {
   "cell_type": "code",
   "execution_count": 49,
   "metadata": {},
   "outputs": [
    {
     "data": {
      "text/html": [
       "<div>\n",
       "<style scoped>\n",
       "    .dataframe tbody tr th:only-of-type {\n",
       "        vertical-align: middle;\n",
       "    }\n",
       "\n",
       "    .dataframe tbody tr th {\n",
       "        vertical-align: top;\n",
       "    }\n",
       "\n",
       "    .dataframe thead th {\n",
       "        text-align: right;\n",
       "    }\n",
       "</style>\n",
       "<table border=\"1\" class=\"dataframe\">\n",
       "  <thead>\n",
       "    <tr style=\"text-align: right;\">\n",
       "      <th></th>\n",
       "      <th>interacting_pair</th>\n",
       "      <th>partner_a</th>\n",
       "      <th>partner_b</th>\n",
       "      <th>gene_a</th>\n",
       "      <th>gene_b</th>\n",
       "      <th>directionality</th>\n",
       "      <th>classification</th>\n",
       "      <th>interacting_cells</th>\n",
       "      <th>significant_mean</th>\n",
       "    </tr>\n",
       "  </thead>\n",
       "  <tbody>\n",
       "    <tr>\n",
       "      <th>0</th>\n",
       "      <td>TGFB2_TGFbeta_receptor1</td>\n",
       "      <td>simple:P61812</td>\n",
       "      <td>complex:TGFbeta_receptor1</td>\n",
       "      <td>TGFB2</td>\n",
       "      <td>NaN</td>\n",
       "      <td>Ligand-Receptor</td>\n",
       "      <td>Signaling by Transforming growth factor</td>\n",
       "      <td>Astrocyte|Microglia</td>\n",
       "      <td>0.384</td>\n",
       "    </tr>\n",
       "    <tr>\n",
       "      <th>1</th>\n",
       "      <td>TGFB2_TGFbeta_receptor2</td>\n",
       "      <td>simple:P61812</td>\n",
       "      <td>complex:TGFbeta_receptor2</td>\n",
       "      <td>TGFB2</td>\n",
       "      <td>NaN</td>\n",
       "      <td>Ligand-Receptor</td>\n",
       "      <td>Signaling by Transforming growth factor</td>\n",
       "      <td>Astrocyte|Microglia</td>\n",
       "      <td>0.123</td>\n",
       "    </tr>\n",
       "    <tr>\n",
       "      <th>2</th>\n",
       "      <td>TGFB1_TGFbeta_receptor2</td>\n",
       "      <td>simple:P01137</td>\n",
       "      <td>complex:TGFbeta_receptor2</td>\n",
       "      <td>TGFB1</td>\n",
       "      <td>NaN</td>\n",
       "      <td>Ligand-Receptor</td>\n",
       "      <td>Signaling by Transforming growth factor</td>\n",
       "      <td>Astrocyte|Microglia</td>\n",
       "      <td>0.050</td>\n",
       "    </tr>\n",
       "    <tr>\n",
       "      <th>3</th>\n",
       "      <td>CSF1_CSF1R</td>\n",
       "      <td>simple:P09603</td>\n",
       "      <td>simple:P07333</td>\n",
       "      <td>CSF1</td>\n",
       "      <td>CSF1R</td>\n",
       "      <td>Ligand-Receptor</td>\n",
       "      <td>Signaling by Colony-Stimulating factor</td>\n",
       "      <td>Astrocyte|Microglia</td>\n",
       "      <td>0.499</td>\n",
       "    </tr>\n",
       "    <tr>\n",
       "      <th>4</th>\n",
       "      <td>TGFB1_TGFbeta_receptor1</td>\n",
       "      <td>simple:P01137</td>\n",
       "      <td>complex:TGFbeta_receptor1</td>\n",
       "      <td>TGFB1</td>\n",
       "      <td>NaN</td>\n",
       "      <td>Ligand-Receptor</td>\n",
       "      <td>Signaling by Transforming growth factor</td>\n",
       "      <td>Astrocyte|Microglia</td>\n",
       "      <td>0.311</td>\n",
       "    </tr>\n",
       "    <tr>\n",
       "      <th>7</th>\n",
       "      <td>TGFB1_TGFbeta_receptor2</td>\n",
       "      <td>simple:P01137</td>\n",
       "      <td>complex:TGFbeta_receptor2</td>\n",
       "      <td>TGFB1</td>\n",
       "      <td>NaN</td>\n",
       "      <td>Ligand-Receptor</td>\n",
       "      <td>Signaling by Transforming growth factor</td>\n",
       "      <td>Microglia|Microglia</td>\n",
       "      <td>0.248</td>\n",
       "    </tr>\n",
       "    <tr>\n",
       "      <th>8</th>\n",
       "      <td>CSF1_CSF1R</td>\n",
       "      <td>simple:P09603</td>\n",
       "      <td>simple:P07333</td>\n",
       "      <td>CSF1</td>\n",
       "      <td>CSF1R</td>\n",
       "      <td>Ligand-Receptor</td>\n",
       "      <td>Signaling by Colony-Stimulating factor</td>\n",
       "      <td>Microglia|Microglia</td>\n",
       "      <td>0.474</td>\n",
       "    </tr>\n",
       "    <tr>\n",
       "      <th>9</th>\n",
       "      <td>TGFB1_TGFbeta_receptor1</td>\n",
       "      <td>simple:P01137</td>\n",
       "      <td>complex:TGFbeta_receptor1</td>\n",
       "      <td>TGFB1</td>\n",
       "      <td>NaN</td>\n",
       "      <td>Ligand-Receptor</td>\n",
       "      <td>Signaling by Transforming growth factor</td>\n",
       "      <td>Microglia|Microglia</td>\n",
       "      <td>0.509</td>\n",
       "    </tr>\n",
       "    <tr>\n",
       "      <th>10</th>\n",
       "      <td>TGFB2_TGFbeta_receptor1</td>\n",
       "      <td>simple:P61812</td>\n",
       "      <td>complex:TGFbeta_receptor1</td>\n",
       "      <td>TGFB2</td>\n",
       "      <td>NaN</td>\n",
       "      <td>Ligand-Receptor</td>\n",
       "      <td>Signaling by Transforming growth factor</td>\n",
       "      <td>Oligodendrocyte|Microglia</td>\n",
       "      <td>0.322</td>\n",
       "    </tr>\n",
       "    <tr>\n",
       "      <th>11</th>\n",
       "      <td>TGFB2_TGFbeta_receptor2</td>\n",
       "      <td>simple:P61812</td>\n",
       "      <td>complex:TGFbeta_receptor2</td>\n",
       "      <td>TGFB2</td>\n",
       "      <td>NaN</td>\n",
       "      <td>Ligand-Receptor</td>\n",
       "      <td>Signaling by Transforming growth factor</td>\n",
       "      <td>Oligodendrocyte|Microglia</td>\n",
       "      <td>0.061</td>\n",
       "    </tr>\n",
       "  </tbody>\n",
       "</table>\n",
       "</div>"
      ],
      "text/plain": [
       "           interacting_pair      partner_a                  partner_b gene_a  \\\n",
       "0   TGFB2_TGFbeta_receptor1  simple:P61812  complex:TGFbeta_receptor1  TGFB2   \n",
       "1   TGFB2_TGFbeta_receptor2  simple:P61812  complex:TGFbeta_receptor2  TGFB2   \n",
       "2   TGFB1_TGFbeta_receptor2  simple:P01137  complex:TGFbeta_receptor2  TGFB1   \n",
       "3                CSF1_CSF1R  simple:P09603              simple:P07333   CSF1   \n",
       "4   TGFB1_TGFbeta_receptor1  simple:P01137  complex:TGFbeta_receptor1  TGFB1   \n",
       "7   TGFB1_TGFbeta_receptor2  simple:P01137  complex:TGFbeta_receptor2  TGFB1   \n",
       "8                CSF1_CSF1R  simple:P09603              simple:P07333   CSF1   \n",
       "9   TGFB1_TGFbeta_receptor1  simple:P01137  complex:TGFbeta_receptor1  TGFB1   \n",
       "10  TGFB2_TGFbeta_receptor1  simple:P61812  complex:TGFbeta_receptor1  TGFB2   \n",
       "11  TGFB2_TGFbeta_receptor2  simple:P61812  complex:TGFbeta_receptor2  TGFB2   \n",
       "\n",
       "   gene_b   directionality                           classification  \\\n",
       "0     NaN  Ligand-Receptor  Signaling by Transforming growth factor   \n",
       "1     NaN  Ligand-Receptor  Signaling by Transforming growth factor   \n",
       "2     NaN  Ligand-Receptor  Signaling by Transforming growth factor   \n",
       "3   CSF1R  Ligand-Receptor   Signaling by Colony-Stimulating factor   \n",
       "4     NaN  Ligand-Receptor  Signaling by Transforming growth factor   \n",
       "7     NaN  Ligand-Receptor  Signaling by Transforming growth factor   \n",
       "8   CSF1R  Ligand-Receptor   Signaling by Colony-Stimulating factor   \n",
       "9     NaN  Ligand-Receptor  Signaling by Transforming growth factor   \n",
       "10    NaN  Ligand-Receptor  Signaling by Transforming growth factor   \n",
       "11    NaN  Ligand-Receptor  Signaling by Transforming growth factor   \n",
       "\n",
       "            interacting_cells  significant_mean  \n",
       "0         Astrocyte|Microglia             0.384  \n",
       "1         Astrocyte|Microglia             0.123  \n",
       "2         Astrocyte|Microglia             0.050  \n",
       "3         Astrocyte|Microglia             0.499  \n",
       "4         Astrocyte|Microglia             0.311  \n",
       "7         Microglia|Microglia             0.248  \n",
       "8         Microglia|Microglia             0.474  \n",
       "9         Microglia|Microglia             0.509  \n",
       "10  Oligodendrocyte|Microglia             0.322  \n",
       "11  Oligodendrocyte|Microglia             0.061  "
      ]
     },
     "execution_count": 49,
     "metadata": {},
     "output_type": "execute_result"
    }
   ],
   "source": [
    "from cellphonedb.utils import search_utils\n",
    "\n",
    "search_results = search_utils.search_analysis_results(\n",
    "    query_cell_types_1 = ['Microglia'],  # List of cells 1, will be paired to cells 2 (list or 'All').\n",
    "    query_cell_types_2 = ['Neuron', 'Astrocyte', 'Oligodendrocyte', 'Microglia'],     # List of cells 2, will be paired to cells 1 (list or 'All').\n",
    "    query_genes = ['TGFBR1', ],                                       # filter interactions based on the genes participating (list).\n",
    "    query_interactions = ['CSF1_CSF1R'],                            # filter intereactions based on their name (list).\n",
    "    significant_means = cpdb_results['significant_means'],          # significant_means file generated by CellphoneDB.\n",
    "    deconvoluted = cpdb_results['deconvoluted'],                    # devonvoluted file generated by CellphoneDB.\n",
    "    interaction_scores = cpdb_results['interaction_scores'],        # interaction score generated by CellphoneDB.\n",
    "    query_minimum_score = 50,                                       # minimum score that an interaction must have to be filtered.\n",
    "    separator = '|',                                                # separator (default: |) employed to split cells (cellA|cellB).\n",
    "    long_format = True,                                             # converts the output into a wide table, removing non-significant interactions\n",
    "    query_classifications = ['Signaling by Transforming growth factor']\n",
    ")\n",
    "\n",
    "search_results"
   ]
  },
  {
   "cell_type": "code",
   "execution_count": 51,
   "metadata": {},
   "outputs": [],
   "source": [
    "\n",
    "\n",
    "# Assuming search_results is a list of dictionaries or a DataFrame\n",
    "# Convert the search_results to a DataFrame if it's not already\n",
    "search_results_df = pd.DataFrame(search_results)\n",
    "\n",
    "# Write the DataFrame to a CSV file\n",
    "search_results_df.to_csv('cellphonedb_search_results.csv', index=False)\n"
   ]
  },
  {
   "cell_type": "code",
   "execution_count": 53,
   "metadata": {},
   "outputs": [],
   "source": [
    "from cellphonedb.utils import search_utils\n",
    "\n",
    "# List of genes to query\n",
    "genes_to_query = [\n",
    "    'TGFBR1', \"AIF1\", \"C1QA\", \"CSF1R\",\n",
    "    \"STMN2\", \"TUBB3\",\n",
    "    \"GFAP\", \"AQP4\", \"ALDH1L1\",\n",
    "    \"OLIG1\", \"OLIG2\", \"PDGFRA\",\n",
    "    \"PLP1\", \"MBP\"\n",
    "]\n",
    "\n",
    "# List of interactions to query\n",
    "interactions_to_query = [\n",
    "    'CSF1_CSF1R',  # example interaction; you can add more if needed\n",
    "]\n",
    "\n",
    "# Perform search for interactions involving specified genes and interactions\n",
    "search_results = search_utils.search_analysis_results(\n",
    "    query_cell_types_1 = ['Microglia'],\n",
    "    query_cell_types_2 = ['Neuron', 'Astrocyte', 'Oligodendrocyte', 'Microglia'],\n",
    "    query_genes = genes_to_query,\n",
    "    query_interactions = interactions_to_query,\n",
    "    significant_means = cpdb_results['significant_means'],\n",
    "    deconvoluted = cpdb_results['deconvoluted'],\n",
    "    interaction_scores = cpdb_results['interaction_scores'],\n",
    "    query_minimum_score = 50,\n",
    "    separator = '|',\n",
    "    long_format = True,\n",
    "    query_classifications = ['Signaling by Transforming growth factor']  # Example classification\n",
    ")\n",
    "\n",
    "search_results\n",
    "\n",
    "search_results_df = pd.DataFrame(search_results)\n",
    "search_results_df.to_csv('cellphonedb_search_genes_from_scanpy.tsv', sep='\\t', index=False)"
   ]
  },
  {
   "cell_type": "code",
   "execution_count": 18,
   "metadata": {},
   "outputs": [
    {
     "data": {
      "text/plain": [
       "<seaborn.matrix.ClusterGrid at 0x7f0d1ac2baa0>"
      ]
     },
     "execution_count": 18,
     "metadata": {},
     "output_type": "execute_result"
    },
    {
     "data": {
      "image/png": "[encoded data removed]",
      "text/plain": [
       "<Figure size 500x500 with 4 Axes>"
      ]
     },
     "metadata": {},
     "output_type": "display_data"
    }
   ],
   "source": [
    "import os\n",
    "import anndata as ad\n",
    "import pandas as pd\n",
    "import ktplotspy as kpy\n",
    "import matplotlib.pyplot as plt\n",
    "%matplotlib inline\n",
    "\n",
    "kpy.plot_cpdb_heatmap(pvals = cpdb_results['pvalues'],\n",
    "                      degs_analysis = False,\n",
    "                      figsize = (5, 5),\n",
    "                      title = \"Sum of significant interactions\")\n"
   ]
  },
  {
   "cell_type": "code",
   "execution_count": 71,
   "metadata": {},
   "outputs": [
    {
     "data": {
      "image/png": "[encoded data removed]",
      "text/plain": [
       "<Figure size 1000x300 with 1 Axes>"
      ]
     },
     "metadata": {
      "image/png": {
       "height": 300,
       "width": 1000
      }
     },
     "output_type": "display_data"
    },
    {
     "data": {
      "text/plain": [
       "<Figure Size: (1000 x 300)>"
      ]
     },
     "execution_count": 71,
     "metadata": {},
     "output_type": "execute_result"
    }
   ],
   "source": [
    "kpy.plot_cpdb(\n",
    "    adata = adata,\n",
    "    cell_type1 = \"Microglia\",\n",
    "    cell_type2 = \"Astrocyte\",\n",
    "    means = cpdb_results['means'],\n",
    "    pvals = cpdb_results['pvalues'],\n",
    "    celltype_key = \"cell_type_lvl1\",\n",
    "    genes = [\"TGFB2\", \"CSF1R\"],\n",
    "    figsize = (10, 3),\n",
    "    title = \"Interactions between\\nMicroglia and Others\",\n",
    "    max_size = 3,\n",
    "    highlight_size = 0.75,\n",
    "    degs_analysis = False,\n",
    "    standard_scale = True,\n",
    "    interaction_scores = cpdb_results['interaction_scores'],\n",
    "    scale_alpha_by_interaction_scores = True\n",
    ")\n"
   ]
  },
  {
   "cell_type": "code",
   "execution_count": 56,
   "metadata": {},
   "outputs": [
    {
     "data": {
      "text/plain": [
       "AnnData object with n_obs × n_vars = 8331 × 25523\n",
       "    obs: 'sample', 'n_genes_by_counts', 'log1p_n_genes_by_counts', 'total_counts', 'log1p_total_counts', 'pct_counts_in_top_50_genes', 'pct_counts_in_top_100_genes', 'pct_counts_in_top_200_genes', 'pct_counts_in_top_500_genes', 'total_counts_mt', 'log1p_total_counts_mt', 'pct_counts_mt', 'total_counts_ribo', 'log1p_total_counts_ribo', 'pct_counts_ribo', 'total_counts_hb', 'log1p_total_counts_hb', 'pct_counts_hb', 'n_genes', 'doublet_score', 'predicted_doublet', 'leiden', 'leiden_res_0.02', 'leiden_res_0.50', 'leiden_res_2.00', 'cell_type_lvl1'\n",
       "    var: 'mt', 'ribo', 'hb', 'n_cells_by_counts', 'mean_counts', 'log1p_mean_counts', 'pct_dropout_by_counts', 'total_counts', 'log1p_total_counts', 'n_cells', 'highly_variable', 'means', 'dispersions', 'dispersions_norm', 'highly_variable_nbatches', 'highly_variable_intersection'\n",
       "    uns: 'cell_type_lvl1_colors', 'dendrogram_leiden_res_0.50', 'hvg', 'leiden', 'leiden_colors', 'leiden_res_0.02', 'leiden_res_0.50', 'leiden_res_0.50_colors', 'leiden_res_2.00', 'log1p', 'neighbors', 'pca', 'predicted_doublet_colors', 'rank_genes_groups', 'sample_colors', 'scrublet', 'umap'\n",
       "    obsm: 'X_pca', 'X_umap'\n",
       "    varm: 'PCs'\n",
       "    layers: 'counts'\n",
       "    obsp: 'connectivities', 'distances'"
      ]
     },
     "execution_count": 56,
     "metadata": {},
     "output_type": "execute_result"
    }
   ],
   "source": [
    "adata"
   ]
  },
  {
   "cell_type": "code",
   "execution_count": null,
   "metadata": {},
   "outputs": [],
   "source": [
    "#Classify output into four groups by all - microglia \n",
    "# if more than 10 , separate by ligand and receptor\n",
    "#rank by p-value instead within the groups\n",
    "# compare astrocyte and neuron, compare how many are overlapping and what is unique for astrocyte and neuron\n",
    "\n",
    "# for the whole dataset, how many inetreaction are there\n"
   ]
  }
 ],
 "metadata": {
  "kernelspec": {
   "display_name": "Python 3",
   "language": "python",
   "name": "python3"
  },
  "language_info": {
   "codemirror_mode": {
    "name": "ipython",
    "version": 3
   },
   "file_extension": ".py",
   "mimetype": "text/x-python",
   "name": "python",
   "nbconvert_exporter": "python",
   "pygments_lexer": "ipython3",
   "version": "3.12.4"
  }
 },
 "nbformat": 4,
 "nbformat_minor": 2
}
