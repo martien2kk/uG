{
 "cells": [
  {
   "cell_type": "code",
   "execution_count": null,
   "id": "4a7088c2-1e7f-4395-a899-a9ab24d66f48",
   "metadata": {},
   "outputs": [],
   "source": [
    "import pandas as pd\n",
    "import sys\n",
    "import os\n",
    "\n",
    "pd.set_option('display.max_columns', 100)\n",
    "current_directory = os.getcwd()\n",
    "print(\"Current Working Directory:\", current_directory)\n"
   ]
  },
  {
   "cell_type": "code",
   "execution_count": null,
   "id": "ff0f6491-0b57-48ce-adb2-e1610c3f65c0",
   "metadata": {},
   "outputs": [],
   "source": [
    "os.chdir('/.mounts/labs/reimandlab/private/users/k2zhang/TIA18674.20211202/cpdb_tutorial')\n",
    "current_directory = os.getcwd()\n",
    "print(\"Current Working Directory:\", current_directory)\n",
    "\n",
    "\n",
    "cpdb_file_path = '/.mounts/labs/reimandlab/private/users/k2zhang/TIA18674.20211202/cpdb_tutorial/db/test/v5.0.0/cellphonedb.zip'\n",
    "meta_file_path = '/.mounts/labs/reimandlab/private/users/k2zhang/TIA18674.20211202/Ai_10xG_library/Ai_10xG_library.metrics_summary.csv'\n",
    "counts_file_path = '/.mounts/labs/reimandlab/private/users/k2zhang/TIA18674.20211202/cpdb_tutorial/counts_data.h5ad'\n",
    "# microenvs_file_path = 'data/microenvironment.tsv'\n",
    "out_path = '/.mounts/labs/reimandlab/private/users/k2zhang/TIA18674.20211202/cpdb_tutorial/results/method1'\n",
    "\n",
    "metadata = pd.read_csv(meta_file_path, sep = ',')\n",
    "metadata.head(3)\n",
    "\n"
   ]
  },
  {
   "cell_type": "code",
   "execution_count": 15,
   "id": "d587540a",
   "metadata": {},
   "outputs": [
    {
     "name": "stdout",
     "output_type": "stream",
     "text": [
      "matrix: <HDF5 group \"/matrix\" (6 members)>\n",
      "matrix/barcodes: <HDF5 dataset \"barcodes\": shape (8331,), type \"|S18\">\n",
      "matrix/data: <HDF5 dataset \"data\": shape (26202101,), type \"<i4\">\n",
      "matrix/features: <HDF5 group \"/matrix/features\" (5 members)>\n",
      "matrix/features/_all_tag_keys: <HDF5 dataset \"_all_tag_keys\": shape (1,), type \"|S6\">\n",
      "matrix/features/feature_type: <HDF5 dataset \"feature_type\": shape (36602,), type \"|S15\">\n",
      "matrix/features/genome: <HDF5 dataset \"genome\": shape (36602,), type \"|S31\">\n",
      "matrix/features/id: <HDF5 dataset \"id\": shape (36602,), type \"|S15\">\n",
      "matrix/features/name: <HDF5 dataset \"name\": shape (36602,), type \"|S17\">\n",
      "matrix/indices: <HDF5 dataset \"indices\": shape (26202101,), type \"<i8\">\n",
      "matrix/indptr: <HDF5 dataset \"indptr\": shape (8332,), type \"<i8\">\n",
      "matrix/shape: <HDF5 dataset \"shape\": shape (2,), type \"<i4\">\n"
     ]
    }
   ],
   "source": [
    "import h5py\n",
    "\n",
    "# Open and inspect the HDF5 file\n",
    "with h5py.File(counts_file_path, 'r') as f:\n",
    "    def print_structure(name, obj):\n",
    "        print(f\"{name}: {obj}\")\n",
    "    f.visititems(print_structure)\n"
   ]
  },
  {
   "cell_type": "code",
   "execution_count": 16,
   "id": "8e34250c-75f5-4779-9643-20db445dff56",
   "metadata": {},
   "outputs": [
    {
     "name": "stdout",
     "output_type": "stream",
     "text": [
      "AnnData object with n_obs × n_vars = 8331 × 36602\n",
      "    var: 'gene_ids', 'feature_types', 'genome'\n"
     ]
    }
   ],
   "source": [
    "# Read the HDF5 file using scanpy\n",
    "adata = sc.read_10x_h5(counts_file_path)\n",
    "print(adata)\n",
    "\n",
    "# Save the AnnData object to disk if necessary\n",
    "adata.write('counts_data.h5ad')"
   ]
  },
  {
   "cell_type": "code",
   "execution_count": 17,
   "id": "4b564690-8638-40c6-8fea-ffe9b8f21d1c",
   "metadata": {},
   "outputs": [
    {
     "name": "stdout",
     "output_type": "stream",
     "text": [
      "[ ][CORE][25/06/24-15:18:42][INFO] [Non Statistical Method] Threshold:0.1 Precision:3\n",
      "Reading user files...\n"
     ]
    },
    {
     "ename": "ValueError",
     "evalue": "Dataset(s) incompatible with Pandas data types, not table, or no datasets found in HDF5 file.",
     "output_type": "error",
     "traceback": [
      "\u001b[0;31m---------------------------------------------------------------------------\u001b[0m",
      "\u001b[0;31mValueError\u001b[0m                                Traceback (most recent call last)",
      "Cell \u001b[0;32mIn[17], line 3\u001b[0m\n\u001b[1;32m      1\u001b[0m \u001b[38;5;28;01mfrom\u001b[39;00m \u001b[38;5;21;01mcellphonedb\u001b[39;00m\u001b[38;5;21;01m.\u001b[39;00m\u001b[38;5;21;01msrc\u001b[39;00m\u001b[38;5;21;01m.\u001b[39;00m\u001b[38;5;21;01mcore\u001b[39;00m\u001b[38;5;21;01m.\u001b[39;00m\u001b[38;5;21;01mmethods\u001b[39;00m \u001b[38;5;28;01mimport\u001b[39;00m cpdb_analysis_method\n\u001b[0;32m----> 3\u001b[0m cpdb_results \u001b[38;5;241m=\u001b[39m \u001b[43mcpdb_analysis_method\u001b[49m\u001b[38;5;241;43m.\u001b[39;49m\u001b[43mcall\u001b[49m\u001b[43m(\u001b[49m\n\u001b[1;32m      4\u001b[0m \u001b[43m    \u001b[49m\u001b[43mcpdb_file_path\u001b[49m\u001b[43m \u001b[49m\u001b[38;5;241;43m=\u001b[39;49m\u001b[43m \u001b[49m\u001b[43mcpdb_file_path\u001b[49m\u001b[43m,\u001b[49m\u001b[43m           \u001b[49m\u001b[38;5;66;43;03m# mandatory: CellphoneDB database zip file.\u001b[39;49;00m\n\u001b[1;32m      5\u001b[0m \u001b[43m    \u001b[49m\u001b[43mmeta_file_path\u001b[49m\u001b[43m \u001b[49m\u001b[38;5;241;43m=\u001b[39;49m\u001b[43m \u001b[49m\u001b[43mmeta_file_path\u001b[49m\u001b[43m,\u001b[49m\u001b[43m           \u001b[49m\u001b[38;5;66;43;03m# mandatory: tsv file defining barcodes to cell label.\u001b[39;49;00m\n\u001b[1;32m      6\u001b[0m \u001b[43m    \u001b[49m\u001b[43mcounts_file_path\u001b[49m\u001b[43m \u001b[49m\u001b[38;5;241;43m=\u001b[39;49m\u001b[43m \u001b[49m\u001b[43mcounts_file_path\u001b[49m\u001b[43m,\u001b[49m\u001b[43m       \u001b[49m\u001b[38;5;66;43;03m# mandatory: normalized count matrix - a path to the counts file, or an in-memory AnnData object\u001b[39;49;00m\n\u001b[1;32m      7\u001b[0m \u001b[43m    \u001b[49m\u001b[43mcounts_data\u001b[49m\u001b[43m \u001b[49m\u001b[38;5;241;43m=\u001b[39;49m\u001b[43m \u001b[49m\u001b[38;5;124;43m'\u001b[39;49m\u001b[38;5;124;43mgene_ids\u001b[39;49m\u001b[38;5;124;43m'\u001b[39;49m\u001b[43m,\u001b[49m\u001b[43m               \u001b[49m\u001b[38;5;66;43;03m# defines the gene annotation in counts matrix.\u001b[39;49;00m\n\u001b[1;32m      8\u001b[0m \u001b[43m    \u001b[49m\u001b[38;5;66;43;03m# microenvs_file_path = microenvs_file_path, # optional (default: None): defines cells per microenvironment.\u001b[39;49;00m\n\u001b[1;32m      9\u001b[0m \u001b[43m    \u001b[49m\u001b[43mscore_interactions\u001b[49m\u001b[43m \u001b[49m\u001b[38;5;241;43m=\u001b[39;49m\u001b[43m \u001b[49m\u001b[38;5;28;43;01mTrue\u001b[39;49;00m\u001b[43m,\u001b[49m\u001b[43m                 \u001b[49m\u001b[38;5;66;43;03m# optional: whether to score interactions or not. \u001b[39;49;00m\n\u001b[1;32m     10\u001b[0m \u001b[43m    \u001b[49m\u001b[43moutput_path\u001b[49m\u001b[43m \u001b[49m\u001b[38;5;241;43m=\u001b[39;49m\u001b[43m \u001b[49m\u001b[43mout_path\u001b[49m\u001b[43m,\u001b[49m\u001b[43m                    \u001b[49m\u001b[38;5;66;43;03m# Path to save results    microenvs_file_path = None,\u001b[39;49;00m\n\u001b[1;32m     11\u001b[0m \u001b[43m    \u001b[49m\u001b[43mseparator\u001b[49m\u001b[43m \u001b[49m\u001b[38;5;241;43m=\u001b[39;49m\u001b[43m \u001b[49m\u001b[38;5;124;43m'\u001b[39;49m\u001b[38;5;124;43m|\u001b[39;49m\u001b[38;5;124;43m'\u001b[39;49m\u001b[43m,\u001b[49m\u001b[43m                           \u001b[49m\u001b[38;5;66;43;03m# Sets the string to employ to separate cells in the results dataframes \"cellA|CellB\".\u001b[39;49;00m\n\u001b[1;32m     12\u001b[0m \u001b[43m    \u001b[49m\u001b[43mthreads\u001b[49m\u001b[43m \u001b[49m\u001b[38;5;241;43m=\u001b[39;49m\u001b[43m \u001b[49m\u001b[38;5;241;43m5\u001b[39;49m\u001b[43m,\u001b[49m\u001b[43m                               \u001b[49m\u001b[38;5;66;43;03m# number of threads to use in the analysis.\u001b[39;49;00m\n\u001b[1;32m     13\u001b[0m \u001b[43m    \u001b[49m\u001b[43mthreshold\u001b[49m\u001b[43m \u001b[49m\u001b[38;5;241;43m=\u001b[39;49m\u001b[43m \u001b[49m\u001b[38;5;241;43m0.1\u001b[39;49m\u001b[43m,\u001b[49m\u001b[43m                           \u001b[49m\u001b[38;5;66;43;03m# defines the min % of cells expressing a gene for this to be employed in the analysis.\u001b[39;49;00m\n\u001b[1;32m     14\u001b[0m \u001b[43m    \u001b[49m\u001b[43mresult_precision\u001b[49m\u001b[43m \u001b[49m\u001b[38;5;241;43m=\u001b[39;49m\u001b[43m \u001b[49m\u001b[38;5;241;43m3\u001b[39;49m\u001b[43m,\u001b[49m\u001b[43m                      \u001b[49m\u001b[38;5;66;43;03m# Sets the rounding for the mean values in significan_means.\u001b[39;49;00m\n\u001b[1;32m     15\u001b[0m \u001b[43m    \u001b[49m\u001b[43mdebug\u001b[49m\u001b[43m \u001b[49m\u001b[38;5;241;43m=\u001b[39;49m\u001b[43m \u001b[49m\u001b[38;5;28;43;01mFalse\u001b[39;49;00m\u001b[43m,\u001b[49m\u001b[43m                             \u001b[49m\u001b[38;5;66;43;03m# Saves all intermediate tables emplyed during the analysis in pkl format.\u001b[39;49;00m\n\u001b[1;32m     16\u001b[0m \u001b[43m    \u001b[49m\u001b[43moutput_suffix\u001b[49m\u001b[43m \u001b[49m\u001b[38;5;241;43m=\u001b[39;49m\u001b[43m \u001b[49m\u001b[38;5;28;43;01mNone\u001b[39;49;00m\u001b[43m                       \u001b[49m\u001b[38;5;66;43;03m# Replaces the timestamp in the output files by a user defined string in the  (default: None)\u001b[39;49;00m\n\u001b[1;32m     17\u001b[0m \u001b[43m)\u001b[49m\n",
      "File \u001b[0;32m/.mounts/labs/reimandlab/private/users/k2zhang/miniconda3/envs/cpdb/lib/python3.12/site-packages/cellphonedb/src/core/methods/cpdb_analysis_method.py:88\u001b[0m, in \u001b[0;36mcall\u001b[0;34m(cpdb_file_path, meta_file_path, counts_file_path, counts_data, output_path, microenvs_file_path, separator, threshold, result_precision, debug, output_suffix, score_interactions, threads)\u001b[0m\n\u001b[1;32m     84\u001b[0m interactions, genes, complex_compositions, complexes, gene_synonym2gene_name, receptor2tfs \u001b[38;5;241m=\u001b[39m \\\n\u001b[1;32m     85\u001b[0m     db_utils\u001b[38;5;241m.\u001b[39mget_interactions_genes_complex(cpdb_file_path)\n\u001b[1;32m     87\u001b[0m \u001b[38;5;66;03m# Load user files into memory\u001b[39;00m\n\u001b[0;32m---> 88\u001b[0m counts, meta, microenvs, degs, _ \u001b[38;5;241m=\u001b[39m \u001b[43mfile_utils\u001b[49m\u001b[38;5;241;43m.\u001b[39;49m\u001b[43mget_user_files\u001b[49m\u001b[43m(\u001b[49m\n\u001b[1;32m     89\u001b[0m \u001b[43m    \u001b[49m\u001b[43mcounts\u001b[49m\u001b[38;5;241;43m=\u001b[39;49m\u001b[43mcounts_file_path\u001b[49m\u001b[43m,\u001b[49m\u001b[43m \u001b[49m\u001b[43mmeta_fp\u001b[49m\u001b[38;5;241;43m=\u001b[39;49m\u001b[43mmeta_file_path\u001b[49m\u001b[43m,\u001b[49m\u001b[43m \u001b[49m\u001b[43mmicroenvs_fp\u001b[49m\u001b[38;5;241;43m=\u001b[39;49m\u001b[43mmicroenvs_file_path\u001b[49m\u001b[43m,\u001b[49m\n\u001b[1;32m     90\u001b[0m \u001b[43m    \u001b[49m\u001b[43mgene_synonym2gene_name\u001b[49m\u001b[38;5;241;43m=\u001b[39;49m\u001b[43mgene_synonym2gene_name\u001b[49m\u001b[43m,\u001b[49m\u001b[43m \u001b[49m\u001b[43mcounts_data\u001b[49m\u001b[38;5;241;43m=\u001b[39;49m\u001b[43mcounts_data\u001b[49m\u001b[43m)\u001b[49m\n\u001b[1;32m     92\u001b[0m \u001b[38;5;66;03m# get reduced interactions (drop duplicates)\u001b[39;00m\n\u001b[1;32m     93\u001b[0m interactions_reduced \u001b[38;5;241m=\u001b[39m interactions[[\u001b[38;5;124m'\u001b[39m\u001b[38;5;124mmultidata_1_id\u001b[39m\u001b[38;5;124m'\u001b[39m, \u001b[38;5;124m'\u001b[39m\u001b[38;5;124mmultidata_2_id\u001b[39m\u001b[38;5;124m'\u001b[39m]]\u001b[38;5;241m.\u001b[39mdrop_duplicates()\n",
      "File \u001b[0;32m/.mounts/labs/reimandlab/private/users/k2zhang/miniconda3/envs/cpdb/lib/python3.12/site-packages/cellphonedb/utils/file_utils.py:434\u001b[0m, in \u001b[0;36mget_user_files\u001b[0;34m(counts, meta_fp, microenvs_fp, degs_fp, active_tfs_fp, gene_synonym2gene_name, counts_data)\u001b[0m\n\u001b[1;32m    432\u001b[0m \u001b[38;5;66;03m# Read user files\u001b[39;00m\n\u001b[1;32m    433\u001b[0m \u001b[38;5;28mprint\u001b[39m(\u001b[38;5;124m\"\u001b[39m\u001b[38;5;124mReading user files...\u001b[39m\u001b[38;5;124m\"\u001b[39m, flush\u001b[38;5;241m=\u001b[39m\u001b[38;5;28;01mTrue\u001b[39;00m)\n\u001b[0;32m--> 434\u001b[0m counts, counts_label \u001b[38;5;241m=\u001b[39m \u001b[43mread_counts\u001b[49m\u001b[43m(\u001b[49m\u001b[43mcounts\u001b[49m\u001b[43m)\u001b[49m\n\u001b[1;32m    436\u001b[0m \u001b[38;5;66;03m# N.B. The functionality below has been switched off for the time being, on Kevin's request\u001b[39;00m\n\u001b[1;32m    437\u001b[0m \u001b[38;5;66;03m# In counts df, replace any gene synonyms not in gene_input.csv to gene names that are in gene_input.\u001b[39;00m\n\u001b[1;32m    438\u001b[0m \u001b[38;5;66;03m# if counts_data == \"hgnc_symbol\" or counts_data == \"gene_name\":\u001b[39;00m\n\u001b[1;32m    439\u001b[0m \u001b[38;5;66;03m#     counts.rename(index=gene_synonym2gene_name, inplace=True)\u001b[39;00m\n\u001b[1;32m    441\u001b[0m loaded_user_files\u001b[38;5;241m.\u001b[39mappend(counts_label)\n",
      "File \u001b[0;32m/.mounts/labs/reimandlab/private/users/k2zhang/miniconda3/envs/cpdb/lib/python3.12/site-packages/cellphonedb/utils/file_utils.py:395\u001b[0m, in \u001b[0;36mread_counts\u001b[0;34m(obj)\u001b[0m\n\u001b[1;32m    393\u001b[0m     counts_label \u001b[38;5;241m=\u001b[39m \u001b[38;5;124m\"\u001b[39m\u001b[38;5;124mcounts from AnnData object\u001b[39m\u001b[38;5;124m\"\u001b[39m\n\u001b[1;32m    394\u001b[0m \u001b[38;5;28;01melse\u001b[39;00m:\n\u001b[0;32m--> 395\u001b[0m     counts \u001b[38;5;241m=\u001b[39m \u001b[43mread_data_table_from_file\u001b[49m\u001b[43m(\u001b[49m\u001b[43mobj\u001b[49m\u001b[43m,\u001b[49m\u001b[43m \u001b[49m\u001b[43mindex_column_first\u001b[49m\u001b[38;5;241;43m=\u001b[39;49m\u001b[38;5;28;43;01mTrue\u001b[39;49;00m\u001b[43m)\u001b[49m\n\u001b[1;32m    396\u001b[0m     counts_label \u001b[38;5;241m=\u001b[39m obj\n\u001b[1;32m    397\u001b[0m \u001b[38;5;28;01mreturn\u001b[39;00m counts, counts_label\n",
      "File \u001b[0;32m/.mounts/labs/reimandlab/private/users/k2zhang/miniconda3/envs/cpdb/lib/python3.12/site-packages/cellphonedb/utils/file_utils.py:30\u001b[0m, in \u001b[0;36mread_data_table_from_file\u001b[0;34m(file, index_column_first, separator, dtype, na_values, compression, optional)\u001b[0m\n\u001b[1;32m     28\u001b[0m     \u001b[38;5;28;01mreturn\u001b[39;00m _read_h5ad(file)\n\u001b[1;32m     29\u001b[0m \u001b[38;5;28;01mif\u001b[39;00m file_extension \u001b[38;5;241m==\u001b[39m \u001b[38;5;124m'\u001b[39m\u001b[38;5;124m.h5\u001b[39m\u001b[38;5;124m'\u001b[39m:\n\u001b[0;32m---> 30\u001b[0m     \u001b[38;5;28;01mreturn\u001b[39;00m \u001b[43m_read_h5\u001b[49m\u001b[43m(\u001b[49m\u001b[43mfile\u001b[49m\u001b[43m)\u001b[49m\n\u001b[1;32m     31\u001b[0m \u001b[38;5;28;01mif\u001b[39;00m file_extension \u001b[38;5;241m==\u001b[39m \u001b[38;5;124m'\u001b[39m\u001b[38;5;124m.pickle\u001b[39m\u001b[38;5;124m'\u001b[39m:\n\u001b[1;32m     32\u001b[0m     \u001b[38;5;28;01mreturn\u001b[39;00m _read_pickle(file)\n",
      "File \u001b[0;32m/.mounts/labs/reimandlab/private/users/k2zhang/miniconda3/envs/cpdb/lib/python3.12/site-packages/cellphonedb/utils/file_utils.py:101\u001b[0m, in \u001b[0;36m_read_h5\u001b[0;34m(path)\u001b[0m\n\u001b[1;32m    100\u001b[0m \u001b[38;5;28;01mdef\u001b[39;00m \u001b[38;5;21m_read_h5\u001b[39m(path: \u001b[38;5;28mstr\u001b[39m) \u001b[38;5;241m-\u001b[39m\u001b[38;5;241m>\u001b[39m pd\u001b[38;5;241m.\u001b[39mDataFrame:\n\u001b[0;32m--> 101\u001b[0m     df \u001b[38;5;241m=\u001b[39m \u001b[43mpd\u001b[49m\u001b[38;5;241;43m.\u001b[39;49m\u001b[43mread_hdf\u001b[49m\u001b[43m(\u001b[49m\u001b[43mpath\u001b[49m\u001b[43m)\u001b[49m\n\u001b[1;32m    102\u001b[0m     \u001b[38;5;28;01mreturn\u001b[39;00m df\n",
      "File \u001b[0;32m/.mounts/labs/reimandlab/private/users/k2zhang/miniconda3/envs/cpdb/lib/python3.12/site-packages/pandas/io/pytables.py:435\u001b[0m, in \u001b[0;36mread_hdf\u001b[0;34m(path_or_buf, key, mode, errors, where, start, stop, columns, iterator, chunksize, **kwargs)\u001b[0m\n\u001b[1;32m    433\u001b[0m groups \u001b[38;5;241m=\u001b[39m store\u001b[38;5;241m.\u001b[39mgroups()\n\u001b[1;32m    434\u001b[0m \u001b[38;5;28;01mif\u001b[39;00m \u001b[38;5;28mlen\u001b[39m(groups) \u001b[38;5;241m==\u001b[39m \u001b[38;5;241m0\u001b[39m:\n\u001b[0;32m--> 435\u001b[0m     \u001b[38;5;28;01mraise\u001b[39;00m \u001b[38;5;167;01mValueError\u001b[39;00m(\n\u001b[1;32m    436\u001b[0m         \u001b[38;5;124m\"\u001b[39m\u001b[38;5;124mDataset(s) incompatible with Pandas data types, \u001b[39m\u001b[38;5;124m\"\u001b[39m\n\u001b[1;32m    437\u001b[0m         \u001b[38;5;124m\"\u001b[39m\u001b[38;5;124mnot table, or no datasets found in HDF5 file.\u001b[39m\u001b[38;5;124m\"\u001b[39m\n\u001b[1;32m    438\u001b[0m     )\n\u001b[1;32m    439\u001b[0m candidate_only_group \u001b[38;5;241m=\u001b[39m groups[\u001b[38;5;241m0\u001b[39m]\n\u001b[1;32m    441\u001b[0m \u001b[38;5;66;03m# For the HDF file to have only one dataset, all other groups\u001b[39;00m\n\u001b[1;32m    442\u001b[0m \u001b[38;5;66;03m# should then be metadata groups for that candidate group. (This\u001b[39;00m\n\u001b[1;32m    443\u001b[0m \u001b[38;5;66;03m# assumes that the groups() method enumerates parent groups\u001b[39;00m\n\u001b[1;32m    444\u001b[0m \u001b[38;5;66;03m# before their children.)\u001b[39;00m\n",
      "\u001b[0;31mValueError\u001b[0m: Dataset(s) incompatible with Pandas data types, not table, or no datasets found in HDF5 file."
     ]
    }
   ],
   "source": [
    "from cellphonedb.src.core.methods import cpdb_analysis_method\n",
    "\n",
    "cpdb_results = cpdb_analysis_method.call(\n",
    "    cpdb_file_path = cpdb_file_path,           # mandatory: CellphoneDB database zip file.\n",
    "    meta_file_path = meta_file_path,           # mandatory: tsv file defining barcodes to cell label.\n",
    "    counts_file_path = counts_file_path,       # mandatory: normalized count matrix - a path to the counts file, or an in-memory AnnData object\n",
    "    counts_data = 'hgnc_symbol',               # defines the gene annotation in counts matrix.\n",
    "    # microenvs_file_path = microenvs_file_path, # optional (default: None): defines cells per microenvironment.\n",
    "    score_interactions = True,                 # optional: whether to score interactions or not. \n",
    "    output_path = out_path,                    # Path to save results    microenvs_file_path = None,\n",
    "    separator = '|',                           # Sets the string to employ to separate cells in the results dataframes \"cellA|CellB\".\n",
    "    threads = 5,                               # number of threads to use in the analysis.\n",
    "    threshold = 0.1,                           # defines the min % of cells expressing a gene for this to be employed in the analysis.\n",
    "    result_precision = 3,                      # Sets the rounding for the mean values in significan_means.\n",
    "    debug = False,                             # Saves all intermediate tables emplyed during the analysis in pkl format.\n",
    "    output_suffix = None                       # Replaces the timestamp in the output files by a user defined string in the  (default: None)\n",
    ")\n"
   ]
  },
  {
   "cell_type": "code",
   "execution_count": null,
   "id": "9402514c-1b86-4f2e-bee2-d662f92ba5ec",
   "metadata": {},
   "outputs": [],
   "source": []
  }
 ],
 "metadata": {
  "kernelspec": {
   "display_name": "Python 3 (ipykernel)",
   "language": "python",
   "name": "python3"
  },
  "language_info": {
   "codemirror_mode": {
    "name": "ipython",
    "version": 3
   },
   "file_extension": ".py",
   "mimetype": "text/x-python",
   "name": "python",
   "nbconvert_exporter": "python",
   "pygments_lexer": "ipython3",
   "version": "3.12.4"
  }
 },
 "nbformat": 4,
 "nbformat_minor": 5
}
